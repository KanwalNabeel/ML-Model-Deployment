{
 "cells": [
  {
   "cell_type": "code",
   "execution_count": 2,
   "id": "6715345d",
   "metadata": {},
   "outputs": [],
   "source": [
    "#importing libraries\n",
    "import pandas as pd\n",
    "import numpy as np\n",
    "from datetime import datetime\n",
    "from sklearn.model_selection import train_test_split\n",
    "from sklearn.preprocessing import OneHotEncoder\n",
    "from sklearn.impute import KNNImputer\n",
    "from sklearn.preprocessing import StandardScaler\n",
    "from sklearn.linear_model import LinearRegression\n",
    "from sklearn.ensemble import RandomForestRegressor\n",
    "from sklearn.ensemble import GradientBoostingRegressor\n",
    "from sklearn.model_selection import GridSearchCV\n",
    "import matplotlib.pyplot as plt # visualizing data\n",
    "%matplotlib inline\n",
    "import seaborn as sns"
   ]
  },
  {
   "cell_type": "code",
   "execution_count": 3,
   "id": "3940cbd5",
   "metadata": {},
   "outputs": [],
   "source": [
    "# import csv file\n",
    "data = pd.read_csv('housing.csv', encoding= 'unicode_escape')"
   ]
  },
  {
   "cell_type": "code",
   "execution_count": null,
   "id": "42be6869",
   "metadata": {
    "scrolled": true
   },
   "outputs": [],
   "source": [
    "data.head(30)"
   ]
  },
  {
   "cell_type": "code",
   "execution_count": null,
   "id": "51df6f5e",
   "metadata": {},
   "outputs": [],
   "source": [
    "data.shape"
   ]
  },
  {
   "cell_type": "code",
   "execution_count": null,
   "id": "512691f8",
   "metadata": {},
   "outputs": [],
   "source": [
    "data.columns\n"
   ]
  },
  {
   "cell_type": "code",
   "execution_count": 3,
   "id": "7c831cac",
   "metadata": {},
   "outputs": [
    {
     "name": "stdout",
     "output_type": "stream",
     "text": [
      "<class 'pandas.core.frame.DataFrame'>\n",
      "RangeIndex: 20640 entries, 0 to 20639\n",
      "Data columns (total 10 columns):\n",
      " #   Column              Non-Null Count  Dtype  \n",
      "---  ------              --------------  -----  \n",
      " 0   median_house_value  20640 non-null  int64  \n",
      " 1   longitude           20640 non-null  float64\n",
      " 2   latitude            20640 non-null  float64\n",
      " 3   housing_median_age  20640 non-null  int64  \n",
      " 4   total_rooms         20640 non-null  int64  \n",
      " 5   total_bedrooms      20433 non-null  float64\n",
      " 6   population          20640 non-null  int64  \n",
      " 7   households          20640 non-null  int64  \n",
      " 8   median_income       20640 non-null  float64\n",
      " 9   ocean_proximity     20640 non-null  object \n",
      "dtypes: float64(4), int64(5), object(1)\n",
      "memory usage: 1.6+ MB\n"
     ]
    }
   ],
   "source": [
    "data.info()"
   ]
  },
  {
   "cell_type": "code",
   "execution_count": null,
   "id": "6d2939f9",
   "metadata": {},
   "outputs": [],
   "source": [
    "data.describe()"
   ]
  },
  {
   "cell_type": "code",
   "execution_count": null,
   "id": "4363997f",
   "metadata": {},
   "outputs": [],
   "source": [
    "#columns visualization"
   ]
  },
  {
   "cell_type": "code",
   "execution_count": null,
   "id": "4e479c26",
   "metadata": {
    "scrolled": true
   },
   "outputs": [],
   "source": [
    "data.hist(figsize=(8,8),layout=(3,5))\n",
    "plt.show()"
   ]
  },
  {
   "cell_type": "code",
   "execution_count": null,
   "id": "d67637b1",
   "metadata": {},
   "outputs": [],
   "source": [
    "data.plot(kind='box',figsize=(8,8),subplots=True,layout=(3,5))\n",
    "plt.show()"
   ]
  },
  {
   "cell_type": "code",
   "execution_count": null,
   "id": "ad91a2ae",
   "metadata": {},
   "outputs": [],
   "source": [
    "plt.figure(figsize=(10,10))\n",
    "sns.heatmap(data.corr(),annot=True)\n",
    "plt.show()"
   ]
  },
  {
   "cell_type": "code",
   "execution_count": null,
   "id": "9daf2b0c",
   "metadata": {},
   "outputs": [],
   "source": [
    "                                    #data pre-processing"
   ]
  },
  {
   "cell_type": "code",
   "execution_count": 4,
   "id": "8c4e7916",
   "metadata": {},
   "outputs": [
    {
     "data": {
      "text/plain": [
       "median_house_value    0\n",
       "longitude             0\n",
       "latitude              0\n",
       "housing_median_age    0\n",
       "total_rooms           0\n",
       "total_bedrooms        0\n",
       "population            0\n",
       "households            0\n",
       "median_income         0\n",
       "ocean_proximity       0\n",
       "dtype: int64"
      ]
     },
     "execution_count": 4,
     "metadata": {},
     "output_type": "execute_result"
    }
   ],
   "source": [
    "data.isnull().sum()\n",
    "\n",
    "# fix the null values by using KNN imputer\n",
    "numerical_cols = ['total_bedrooms']\n",
    "def FixUsingImputer(data, numerical_cols):\n",
    "    Imputer = KNNImputer(n_neighbors = 5)\n",
    "    Imputer.fit(data.loc[: , numerical_cols])\n",
    "    Imputed_data = Imputer.transform(data.loc[ : , numerical_cols])\n",
    "    data.loc[ : , numerical_cols] =   Imputed_data\n",
    "    return data\n",
    "data = FixUsingImputer(data , numerical_cols )\n",
    "\n",
    "data.isnull().sum()\n",
    "    "
   ]
  },
  {
   "cell_type": "code",
   "execution_count": 5,
   "id": "bb69c2c8",
   "metadata": {},
   "outputs": [],
   "source": [
    "#categorical column = ocean_poximity\n",
    "data['ocean_proximity'].value_counts()\n",
    "\n",
    "#apply onehotencoder on ocean_poximity\n",
    "Cols = ['ocean_proximity']\n",
    "def ApplyOneHotEncoding(data , Cols):\n",
    "    ohe = OneHotEncoder(sparse = False)\n",
    "    ohe.fit(data[[Cols]])\n",
    "    oheMatrix = ohe.transform(data[[Cols]])\n",
    "    Encodings = pd.DataFrame(oheMatrix[:,:-1], columns = [Cols+col for col in ohe.categories_[0][:-1]])\n",
    "    data.drop([Cols] , axis = 1 , inplace = True)\n",
    "    data = pd.concat([data , Encodings],axis=1)\n",
    "    return data\n",
    "for col in Cols:\n",
    "    data = ApplyOneHotEncoding(data , col)"
   ]
  },
  {
   "cell_type": "code",
   "execution_count": null,
   "id": "5c468c36",
   "metadata": {
    "scrolled": true
   },
   "outputs": [],
   "source": [
    "data.head()"
   ]
  },
  {
   "cell_type": "code",
   "execution_count": 6,
   "id": "4bcdbe71",
   "metadata": {},
   "outputs": [
    {
     "name": "stdout",
     "output_type": "stream",
     "text": [
      "['total_rooms', 'total_bedrooms', 'population', 'households', 'median_income']\n"
     ]
    }
   ],
   "source": [
    "                            #fixing ouliers with KNN\n",
    "    \n",
    "Numerical_cols = list(data.columns[4:-4])\n",
    "print(Numerical_cols)\n",
    "def FixOutliers(data ,col_name , idxs):\n",
    "    data.loc[idxs , col_name] = np.nan\n",
    "    Imputer = KNNImputer()\n",
    "    Imputer.fit(data.loc[: , Numerical_cols])\n",
    "    data.loc[: , Numerical_cols] = Imputer.transform(data.loc[: , Numerical_cols])\n",
    "    return data"
   ]
  },
  {
   "cell_type": "code",
   "execution_count": 7,
   "id": "0d4c514b",
   "metadata": {},
   "outputs": [],
   "source": [
    "                        #detecting outliers with Zscore\n",
    "\n",
    "def DetectOutliers_Zscore(data ,col_name):\n",
    "    mean = data[col_name].mean()\n",
    "    std = data[col_name].std()\n",
    "    high_threshold = mean + 10* std\n",
    "    low_threshold = mean - 10* std\n",
    "    high_boolean_vector = data[col_name].values>high_threshold\n",
    "    low_boolean_vector = data[col_name].values<low_threshold\n",
    "    \n",
    "    outlier_boolean_vector  = np.logical_or(high_boolean_vector  ,  low_boolean_vector)\n",
    "    idxs = np.where(outlier_boolean_vector)[0]\n",
    "    \n",
    "    print(\"No. of Outliers detected in \" ,col_name ,' :' , len(idxs))\n",
    "    plt.plot(data[col_name].values)\n",
    "    plt.plot([high_threshold] * data.shape[0])\n",
    "    plt.plot([low_threshold] * data.shape[0])\n",
    "    plt.show()\n",
    "    \n",
    "    if len(idxs):\n",
    "        data = FixOutliers(data , col_name , idxs) \n",
    "        print(\"After Fixing Outliers: \")\n",
    "        plt.plot(data[col_name].values)\n",
    "        plt.plot([high_threshold] * data.shape[0])\n",
    "        plt.plot([low_threshold] * data.shape[0])\n",
    "        plt.show()\n",
    "    \n",
    "    return data"
   ]
  },
  {
   "cell_type": "code",
   "execution_count": 8,
   "id": "879fb55a",
   "metadata": {},
   "outputs": [
    {
     "name": "stdout",
     "output_type": "stream",
     "text": [
      "No. of Outliers detected in  total_rooms  : 14\n"
     ]
    },
    {
     "data": {
      "image/png": "[encoded data removed]",
      "text/plain": [
       "<Figure size 432x288 with 1 Axes>"
      ]
     },
     "metadata": {
      "needs_background": "light"
     },
     "output_type": "display_data"
    },
    {
     "name": "stdout",
     "output_type": "stream",
     "text": [
      "After Fixing Outliers: \n"
     ]
    },
    {
     "data": {
      "image/png": "[encoded data removed]",
      "text/plain": [
       "<Figure size 432x288 with 1 Axes>"
      ]
     },
     "metadata": {
      "needs_background": "light"
     },
     "output_type": "display_data"
    },
    {
     "name": "stdout",
     "output_type": "stream",
     "text": [
      "No. of Outliers detected in  total_bedrooms  : 11\n"
     ]
    },
    {
     "data": {
      "image/png": "[encoded data removed]",
      "text/plain": [
       "<Figure size 432x288 with 1 Axes>"
      ]
     },
     "metadata": {
      "needs_background": "light"
     },
     "output_type": "display_data"
    },
    {
     "name": "stdout",
     "output_type": "stream",
     "text": [
      "After Fixing Outliers: \n"
     ]
    },
    {
     "data": {
      "image/png": "[encoded data removed]",
      "text/plain": [
       "<Figure size 432x288 with 1 Axes>"
      ]
     },
     "metadata": {
      "needs_background": "light"
     },
     "output_type": "display_data"
    },
    {
     "name": "stdout",
     "output_type": "stream",
     "text": [
      "No. of Outliers detected in  population  : 8\n"
     ]
    },
    {
     "data": {
      "image/png": "[encoded data removed]",
      "text/plain": [
       "<Figure size 432x288 with 1 Axes>"
      ]
     },
     "metadata": {
      "needs_background": "light"
     },
     "output_type": "display_data"
    },
    {
     "name": "stdout",
     "output_type": "stream",
     "text": [
      "After Fixing Outliers: \n"
     ]
    },
    {
     "data": {
      "image/png": "[encoded data removed]",
      "text/plain": [
       "<Figure size 432x288 with 1 Axes>"
      ]
     },
     "metadata": {
      "needs_background": "light"
     },
     "output_type": "display_data"
    },
    {
     "name": "stdout",
     "output_type": "stream",
     "text": [
      "No. of Outliers detected in  households  : 11\n"
     ]
    },
    {
     "data": {
      "image/png": "[encoded data removed]",
      "text/plain": [
       "<Figure size 432x288 with 1 Axes>"
      ]
     },
     "metadata": {
      "needs_background": "light"
     },
     "output_type": "display_data"
    },
    {
     "name": "stdout",
     "output_type": "stream",
     "text": [
      "After Fixing Outliers: \n"
     ]
    },
    {
     "data": {
      "image/png": "[encoded data removed]",
      "text/plain": [
       "<Figure size 432x288 with 1 Axes>"
      ]
     },
     "metadata": {
      "needs_background": "light"
     },
     "output_type": "display_data"
    },
    {
     "name": "stdout",
     "output_type": "stream",
     "text": [
      "No. of Outliers detected in  median_income  : 0\n"
     ]
    },
    {
     "data": {
      "image/png": "[encoded data removed]",
      "text/plain": [
       "<Figure size 432x288 with 1 Axes>"
      ]
     },
     "metadata": {
      "needs_background": "light"
     },
     "output_type": "display_data"
    }
   ],
   "source": [
    "for col in Numerical_cols:\n",
    "    data = DetectOutliers_Zscore(data , col)"
   ]
  },
  {
   "cell_type": "code",
   "execution_count": 8,
   "id": "fbceb3b6",
   "metadata": {
    "scrolled": true
   },
   "outputs": [
    {
     "data": {
      "text/html": [
       "<div>\n",
       "<style scoped>\n",
       "    .dataframe tbody tr th:only-of-type {\n",
       "        vertical-align: middle;\n",
       "    }\n",
       "\n",
       "    .dataframe tbody tr th {\n",
       "        vertical-align: top;\n",
       "    }\n",
       "\n",
       "    .dataframe thead th {\n",
       "        text-align: right;\n",
       "    }\n",
       "</style>\n",
       "<table border=\"1\" class=\"dataframe\">\n",
       "  <thead>\n",
       "    <tr style=\"text-align: right;\">\n",
       "      <th></th>\n",
       "      <th>median_house_value</th>\n",
       "      <th>longitude</th>\n",
       "      <th>latitude</th>\n",
       "      <th>housing_median_age</th>\n",
       "      <th>total_rooms</th>\n",
       "      <th>total_bedrooms</th>\n",
       "      <th>population</th>\n",
       "      <th>households</th>\n",
       "      <th>median_income</th>\n",
       "      <th>ocean_proximity&lt;1H OCEAN</th>\n",
       "      <th>ocean_proximityINLAND</th>\n",
       "      <th>ocean_proximityISLAND</th>\n",
       "      <th>ocean_proximityNEAR BAY</th>\n",
       "    </tr>\n",
       "  </thead>\n",
       "  <tbody>\n",
       "    <tr>\n",
       "      <th>0</th>\n",
       "      <td>2.129631</td>\n",
       "      <td>-1.327835</td>\n",
       "      <td>1.052548</td>\n",
       "      <td>0.982143</td>\n",
       "      <td>-0.804819</td>\n",
       "      <td>-0.975228</td>\n",
       "      <td>-0.974429</td>\n",
       "      <td>-0.977033</td>\n",
       "      <td>2.344766</td>\n",
       "      <td>-0.891156</td>\n",
       "      <td>-0.681889</td>\n",
       "      <td>-0.015566</td>\n",
       "      <td>2.830742</td>\n",
       "    </tr>\n",
       "    <tr>\n",
       "      <th>1</th>\n",
       "      <td>1.314156</td>\n",
       "      <td>-1.322844</td>\n",
       "      <td>1.043185</td>\n",
       "      <td>-0.607019</td>\n",
       "      <td>2.045890</td>\n",
       "      <td>1.355088</td>\n",
       "      <td>0.861439</td>\n",
       "      <td>1.669961</td>\n",
       "      <td>2.332238</td>\n",
       "      <td>-0.891156</td>\n",
       "      <td>-0.681889</td>\n",
       "      <td>-0.015566</td>\n",
       "      <td>2.830742</td>\n",
       "    </tr>\n",
       "    <tr>\n",
       "      <th>2</th>\n",
       "      <td>1.258693</td>\n",
       "      <td>-1.332827</td>\n",
       "      <td>1.038503</td>\n",
       "      <td>1.856182</td>\n",
       "      <td>-0.535746</td>\n",
       "      <td>-0.829732</td>\n",
       "      <td>-0.820777</td>\n",
       "      <td>-0.843637</td>\n",
       "      <td>1.782699</td>\n",
       "      <td>-0.891156</td>\n",
       "      <td>-0.681889</td>\n",
       "      <td>-0.015566</td>\n",
       "      <td>2.830742</td>\n",
       "    </tr>\n",
       "    <tr>\n",
       "      <th>3</th>\n",
       "      <td>1.165100</td>\n",
       "      <td>-1.337818</td>\n",
       "      <td>1.038503</td>\n",
       "      <td>1.856182</td>\n",
       "      <td>-0.624215</td>\n",
       "      <td>-0.722399</td>\n",
       "      <td>-0.766028</td>\n",
       "      <td>-0.733781</td>\n",
       "      <td>0.932968</td>\n",
       "      <td>-0.891156</td>\n",
       "      <td>-0.681889</td>\n",
       "      <td>-0.015566</td>\n",
       "      <td>2.830742</td>\n",
       "    </tr>\n",
       "    <tr>\n",
       "      <th>4</th>\n",
       "      <td>1.172900</td>\n",
       "      <td>-1.337818</td>\n",
       "      <td>1.038503</td>\n",
       "      <td>1.856182</td>\n",
       "      <td>-0.462404</td>\n",
       "      <td>-0.615066</td>\n",
       "      <td>-0.759847</td>\n",
       "      <td>-0.629157</td>\n",
       "      <td>-0.012881</td>\n",
       "      <td>-0.891156</td>\n",
       "      <td>-0.681889</td>\n",
       "      <td>-0.015566</td>\n",
       "      <td>2.830742</td>\n",
       "    </tr>\n",
       "  </tbody>\n",
       "</table>\n",
       "</div>"
      ],
      "text/plain": [
       "   median_house_value  longitude  latitude  housing_median_age  total_rooms  \\\n",
       "0            2.129631  -1.327835  1.052548            0.982143    -0.804819   \n",
       "1            1.314156  -1.322844  1.043185           -0.607019     2.045890   \n",
       "2            1.258693  -1.332827  1.038503            1.856182    -0.535746   \n",
       "3            1.165100  -1.337818  1.038503            1.856182    -0.624215   \n",
       "4            1.172900  -1.337818  1.038503            1.856182    -0.462404   \n",
       "\n",
       "   total_bedrooms  population  households  median_income  \\\n",
       "0       -0.975228   -0.974429   -0.977033       2.344766   \n",
       "1        1.355088    0.861439    1.669961       2.332238   \n",
       "2       -0.829732   -0.820777   -0.843637       1.782699   \n",
       "3       -0.722399   -0.766028   -0.733781       0.932968   \n",
       "4       -0.615066   -0.759847   -0.629157      -0.012881   \n",
       "\n",
       "   ocean_proximity<1H OCEAN  ocean_proximityINLAND  ocean_proximityISLAND  \\\n",
       "0                 -0.891156              -0.681889              -0.015566   \n",
       "1                 -0.891156              -0.681889              -0.015566   \n",
       "2                 -0.891156              -0.681889              -0.015566   \n",
       "3                 -0.891156              -0.681889              -0.015566   \n",
       "4                 -0.891156              -0.681889              -0.015566   \n",
       "\n",
       "   ocean_proximityNEAR BAY  \n",
       "0                 2.830742  \n",
       "1                 2.830742  \n",
       "2                 2.830742  \n",
       "3                 2.830742  \n",
       "4                 2.830742  "
      ]
     },
     "execution_count": 8,
     "metadata": {},
     "output_type": "execute_result"
    }
   ],
   "source": [
    "                            #Feature scaling\n",
    "scaler = StandardScaler()\n",
    "data.iloc[:,:] = scaler.fit_transform(data)\n",
    "data.head()"
   ]
  },
  {
   "cell_type": "code",
   "execution_count": null,
   "id": "5d05b856",
   "metadata": {},
   "outputs": [],
   "source": [
    "data.std()"
   ]
  },
  {
   "cell_type": "code",
   "execution_count": null,
   "id": "38b668a1",
   "metadata": {},
   "outputs": [],
   "source": [
    "data.mean()"
   ]
  },
  {
   "cell_type": "code",
   "execution_count": 9,
   "id": "35a9b7ff",
   "metadata": {},
   "outputs": [
    {
     "name": "stdout",
     "output_type": "stream",
     "text": [
      "Training Shape :  (16512, 12) (16512,)\n",
      "Training Shape :  (4128, 12) (4128,)\n"
     ]
    }
   ],
   "source": [
    "                        #train , test , split\n",
    "x , y= data.iloc[: , 1:] , data.iloc[: , 0]\n",
    "x_train, x_test, y_train, y_test = train_test_split( x , y, random_state=0, test_size=0.2 , shuffle = True)\n",
    "\n",
    "print(\"Training Shape : \" , x_train.shape,  y_train.shape)\n",
    "print(\"Training Shape : \" , x_test.shape,  y_test.shape)"
   ]
  },
  {
   "cell_type": "code",
   "execution_count": null,
   "id": "7e1b27e7",
   "metadata": {},
   "outputs": [],
   "source": []
  },
  {
   "cell_type": "code",
   "execution_count": null,
   "id": "ce206d0e",
   "metadata": {},
   "outputs": [],
   "source": []
  },
  {
   "cell_type": "code",
   "execution_count": 9,
   "id": "0a1039d5",
   "metadata": {},
   "outputs": [],
   "source": [
    "                                #define the metrices\n",
    "                                #1.MeanSquaredError\n",
    "                                #2.RootMeanSquaredError\n",
    "                                #3.R2Score\n",
    "                                #4.MeanAbsoluteError"
   ]
  },
  {
   "cell_type": "code",
   "execution_count": 10,
   "id": "9869fd5c",
   "metadata": {},
   "outputs": [],
   "source": [
    "def PrintTheMetrics(actual , predicted):\n",
    "    print(\"MeanSquaredError: \" , MeanSquaredError(y_test , predictions)) \n",
    "    print(\"RootMeanSquaredError: \" , RootMeanSquaredError(y_test , predictions))\n",
    "    print(\"R2Score: \" , R2Score(y_test , predictions))\n",
    "    print(\"MeanAbsoluteError: \" , MeanAbsoluteError(y_test , predictions))"
   ]
  },
  {
   "cell_type": "code",
   "execution_count": 11,
   "id": "fc11676e",
   "metadata": {},
   "outputs": [],
   "source": [
    "def MeanSquaredError(actual , predicted):\n",
    "    Error = actual - predicted\n",
    "    squaredError = np.square(actual - predicted)\n",
    "    MSE = np.mean(squaredError)\n",
    "    return MSE"
   ]
  },
  {
   "cell_type": "code",
   "execution_count": 12,
   "id": "4fdfa626",
   "metadata": {},
   "outputs": [],
   "source": [
    "def RootMeanSquaredError(actual , predicted):\n",
    "    RMSE = np.sqrt(MeanSquaredError(actual , predicted))\n",
    "    return RMSE"
   ]
  },
  {
   "cell_type": "code",
   "execution_count": 13,
   "id": "3824fe4c",
   "metadata": {},
   "outputs": [],
   "source": [
    "def  R2Score(actual, predicted):\n",
    "    SSR = np.sum(np.square(actual - predicted))\n",
    "    SSM = np.sum(np.square(actual - np.mean(actual)))\n",
    "    return 1 - (SSR / SSM)"
   ]
  },
  {
   "cell_type": "code",
   "execution_count": 14,
   "id": "a09a072a",
   "metadata": {},
   "outputs": [],
   "source": [
    "def MeanAbsoluteError(actual , predicted):\n",
    "    return np.mean(np.abs(actual - predicted))"
   ]
  },
  {
   "cell_type": "code",
   "execution_count": null,
   "id": "34e6e314",
   "metadata": {},
   "outputs": [],
   "source": []
  },
  {
   "cell_type": "code",
   "execution_count": null,
   "id": "19249103",
   "metadata": {},
   "outputs": [],
   "source": []
  },
  {
   "cell_type": "code",
   "execution_count": 17,
   "id": "20e7b62f",
   "metadata": {},
   "outputs": [
    {
     "name": "stdout",
     "output_type": "stream",
     "text": [
      "MeanSquaredError:  0.3538768681114334\n",
      "RootMeanSquaredError:  0.5948755063972909\n",
      "R2Score:  0.6386340899602367\n",
      "MeanAbsoluteError:  0.43056061692402847\n",
      "Training Set Accuracy:  0.6515382048268801\n",
      "Testing Set Accuracy:  0.6386340899602367\n"
     ]
    }
   ],
   "source": [
    "#define the model : LinearRegression\n",
    "lr = LinearRegression()\n",
    "lr.fit(x_train , y_train)\n",
    "predictions = lr.predict(x_test)\n",
    "\n",
    "#evaluation metrics\n",
    "PrintTheMetrics(y_test , predictions)\n",
    "\n",
    "#Accuracy Traing Test\n",
    "print(\"Training Set Accuracy: \" , lr.score(x_train , y_train))\n",
    "#Accuracy Traing Test\n",
    "print(\"Testing Set Accuracy: \" , lr.score(x_test, y_test))"
   ]
  },
  {
   "cell_type": "code",
   "execution_count": 18,
   "id": "0174049f",
   "metadata": {},
   "outputs": [
    {
     "name": "stdout",
     "output_type": "stream",
     "text": [
      "MeanSquaredError:  0.1708466490123299\n",
      "RootMeanSquaredError:  0.41333600014072075\n",
      "R2Score:  0.8255377495368145\n",
      "MeanAbsoluteError:  0.2708275659134304\n",
      "Training Set Accuracy:  0.9752820742606986\n",
      "Testing Set Accuracy:  0.8255377495368145\n"
     ]
    }
   ],
   "source": [
    "#define the model: RandomForestRegressor\n",
    "RF = RandomForestRegressor()\n",
    "RF.fit(x_train , y_train)\n",
    "predictions = RF.predict(x_test)\n",
    "\n",
    "#evaluation metrics\n",
    "PrintTheMetrics(y_test , predictions)\n",
    "\n",
    "#Accuracy Traing Test\n",
    "print(\"Training Set Accuracy: \" , RF.score(x_train , y_train))\n",
    "#Accuracy Traing Test\n",
    "print(\"Testing Set Accuracy: \" , RF.score(x_test, y_test))"
   ]
  },
  {
   "cell_type": "code",
   "execution_count": 15,
   "id": "57ede9b8",
   "metadata": {},
   "outputs": [
    {
     "name": "stdout",
     "output_type": "stream",
     "text": [
      "MeanSquaredError:  0.22973492708141235\n",
      "RootMeanSquaredError:  0.4793067150389324\n",
      "R2Score:  0.7654032278635652\n",
      "MeanAbsoluteError:  0.33293104839940507\n",
      "Training Set Accuracy:  0.7849035214750297\n",
      "Testing Set Accuracy:  0.7654032278635652\n"
     ]
    }
   ],
   "source": [
    "#Define the Model : GradientBoostingRegressor\n",
    "gb = GradientBoostingRegressor()\n",
    "gb.fit(x_train , y_train)\n",
    "predictions = gb.predict(x_test)\n",
    "PrintTheMetrics(y_test , predictions)\n",
    "\n",
    "#Accuracy Traing Test\n",
    "print(\"Training Set Accuracy: \" , gb.score(x_train , y_train))\n",
    "#Accuracy Traing Test\n",
    "print(\"Testing Set Accuracy: \" , gb.score(x_test, y_test))"
   ]
  },
  {
   "cell_type": "code",
   "execution_count": null,
   "id": "83fbf938",
   "metadata": {},
   "outputs": [],
   "source": []
  },
  {
   "cell_type": "code",
   "execution_count": null,
   "id": "518f08ba",
   "metadata": {},
   "outputs": [],
   "source": []
  },
  {
   "cell_type": "code",
   "execution_count": null,
   "id": "5c0ef6a5",
   "metadata": {},
   "outputs": [],
   "source": []
  },
  {
   "cell_type": "code",
   "execution_count": null,
   "id": "f9d63425",
   "metadata": {},
   "outputs": [],
   "source": [
    "                          #define the model: RandomForestRegressor"
   ]
  },
  {
   "cell_type": "code",
   "execution_count": null,
   "id": "ea8f13d5",
   "metadata": {},
   "outputs": [],
   "source": [
    "                                   #grid search\n",
    "param_grid = {\n",
    "    'bootstrap': [True],\n",
    "    'max_depth': [80, 90, 100, 110],\n",
    "    'max_features': [2, 3],\n",
    "    'min_samples_leaf': [3, 4, 5],\n",
    "    'min_samples_split': [8, 10, 12],\n",
    "    'n_estimators': [100, 200, 300, 1000]\n",
    "}\n",
    "# Create a based model\n",
    "rf = RandomForestRegressor()\n",
    "\n",
    "# Instantiate the grid search model\n",
    "grid_search = GridSearchCV(estimator = rf, param_grid = param_grid, \n",
    "                          cv = 3, n_jobs = -1, verbose = 2)\n",
    "\n",
    "grid_search = GridSearchCV(rf , param_grid)\n",
    "grid_search.fit(x_train , y_train)\n",
    "\n",
    "\n",
    "#Check best Param and best Model\n",
    "print(grid_search.best_params_)\n",
    "best_model = grid_search.best_estimator_\n",
    "print(best_model)\n",
    "\n",
    "#predictions\n",
    "predictions = best_model.predict(x_test)\n",
    "#evaluation metrics\n",
    "PrintTheMetrics(y_test , predictions)\n",
    "\n",
    "\n",
    "#Accuracy Traing Test\n",
    "print(\"Training Set Accuracy: \" , best_model.score(x_train , y_train))\n",
    "#Accuracy Testing Test\n",
    "print(\"Testing Set Accuracy: \" , best_model.score(x_test, y_test))"
   ]
  },
  {
   "cell_type": "code",
   "execution_count": null,
   "id": "44381ade",
   "metadata": {},
   "outputs": [
    {
     "name": "stdout",
     "output_type": "stream",
     "text": [
      "{'bootstrap': [True, False],\n",
      " 'max_depth': [10, 20, 30, 40, 50, 60, 70, 80, 90, 100, 110, None],\n",
      " 'max_features': ['auto', 'sqrt'],\n",
      " 'min_samples_leaf': [1, 2, 4],\n",
      " 'min_samples_split': [2, 5, 10],\n",
      " 'n_estimators': [200, 400, 600, 800, 1000, 1200, 1400, 1600, 1800, 2000]}\n",
      "Fitting 3 folds for each of 100 candidates, totalling 300 fits\n"
     ]
    }
   ],
   "source": [
    "                                      #random search \n",
    "\n",
    "from sklearn.model_selection import RandomizedSearchCV\n",
    "from pprint import pprint\n",
    "# Number of trees in random forest\n",
    "n_estimators = [int(x) for x in np.linspace(start = 200, stop = 2000, num = 10)]\n",
    "# Number of features to consider at every split\n",
    "max_features = ['auto', 'sqrt']\n",
    "# Maximum number of levels in tree\n",
    "max_depth = [int(x) for x in np.linspace(10, 110, num = 11)]\n",
    "max_depth.append(None)\n",
    "# Minimum number of samples required to split a node\n",
    "min_samples_split = [2, 5, 10]\n",
    "# Minimum number of samples required at each leaf node\n",
    "min_samples_leaf = [1, 2, 4]\n",
    "# Method of selecting samples for training each tree\n",
    "bootstrap = [True, False]\n",
    "# Create the random grid\n",
    "random_grid = {'n_estimators': n_estimators,\n",
    "               'max_features': max_features,\n",
    "               'max_depth': max_depth,\n",
    "               'min_samples_split': min_samples_split,\n",
    "               'min_samples_leaf': min_samples_leaf,\n",
    "               'bootstrap': bootstrap}\n",
    "pprint(random_grid)\n",
    "{'bootstrap': [True, False],\n",
    " 'max_depth': [10, 20, 30, 40, 50, 60, 70, 80, 90, 100, None],\n",
    " 'max_features': ['auto', 'sqrt'],\n",
    " 'min_samples_leaf': [1, 2, 4],\n",
    " 'min_samples_split': [2, 5, 10],\n",
    " 'n_estimators': [200, 400, 600, 800, 1000, 1200, 1400, 1600, 1800, 2000]}\n",
    "\n",
    "\n",
    "\n",
    "\n",
    "# Use the random grid to search for best hyperparameters\n",
    "# First create the base model to tune\n",
    "rf = RandomForestRegressor()\n",
    "# Random search of parameters, using 3 fold cross validation, \n",
    "# search across 100 different combinations, and use all available cores\n",
    "rf_random = RandomizedSearchCV(estimator = rf, param_distributions = random_grid, n_iter = 100, cv = 3, verbose=2, random_state=42, n_jobs = -1)\n",
    "# Fit the random search model\n",
    "rf_random.fit(x_train , y_train)"
   ]
  },
  {
   "cell_type": "code",
   "execution_count": null,
   "id": "728a2e67",
   "metadata": {},
   "outputs": [],
   "source": [
    "#Check best Param and best Model\n",
    "print(rf_random.best_params_)\n",
    "best_model = rf_random.best_estimator_\n",
    "print(best_model)\n",
    "\n",
    "#predictions\n",
    "predictions = best_model.predict(x_test)\n",
    "#evaluation metrics\n",
    "PrintTheMetrics(y_test , predictions)\n",
    "\n",
    "\n",
    "#Accuracy Traing Test\n",
    "print(\"Training Set Accuracy: \" , best_model.score(x_train , y_train))\n",
    "#Accuracy Testing Test\n",
    "print(\"Testing Set Accuracy: \" , best_model.score(x_test, y_test))"
   ]
  },
  {
   "cell_type": "code",
   "execution_count": null,
   "id": "9a0dfef6",
   "metadata": {},
   "outputs": [],
   "source": []
  },
  {
   "cell_type": "code",
   "execution_count": null,
   "id": "d088d909",
   "metadata": {},
   "outputs": [],
   "source": []
  },
  {
   "cell_type": "code",
   "execution_count": null,
   "id": "44a4cdc5",
   "metadata": {},
   "outputs": [],
   "source": []
  },
  {
   "cell_type": "code",
   "execution_count": null,
   "id": "086f5a1b",
   "metadata": {},
   "outputs": [],
   "source": [
    "                          #Define the Model : GradientBoostingRegressor"
   ]
  },
  {
   "cell_type": "code",
   "execution_count": null,
   "id": "ec6d057b",
   "metadata": {},
   "outputs": [],
   "source": [
    "                                   #grid search\n",
    "gbr = GradientBoostingRegressor()\n",
    "param_grid = {'n_estimators':[100, 500 , 1000], \n",
    "             'min_samples_split':[5 , 7 , 9],\n",
    "              'learning_rate' :[ 0.01, 0.1, 1.0],\n",
    "             'max_depth' : [ 4 ,7, 9]}\n",
    "\n",
    "#Fit the Model\n",
    "grid_search = GridSearchCV(gbr, param_grid)\n",
    "grid_search.fit(x_train , y_train)\n",
    "\n",
    "#Check best Param and best Model\n",
    "print(grid_search.best_params_)\n",
    "best_model = grid_search.best_estimator_\n",
    "print(best_model)\n",
    "\n",
    "#Predictions\n",
    "predictions = best_model.predict(x_test)\n",
    "PrintTheMetrics(y_test , predictions)\n",
    "\n",
    "#Accuracy Traing Test\n",
    "print(\"Training Set Accuracy: \" , best_model.score(x_train , y_train))\n",
    "#Accuracy Traing Test\n",
    "print(\"Testing Set Accuracy: \" , best_model.score(x_test, y_test))"
   ]
  },
  {
   "cell_type": "code",
   "execution_count": 16,
   "id": "c729a2a2",
   "metadata": {},
   "outputs": [],
   "source": [
    "import pickle \n",
    "pickle.dump(gb,open('model.pkl','wb'))"
   ]
  },
  {
   "cell_type": "code",
   "execution_count": null,
   "id": "64dd1f82",
   "metadata": {},
   "outputs": [],
   "source": [
    "model = pickle.load(open('model.pkl','rb'))"
   ]
  },
  {
   "cell_type": "code",
   "execution_count": null,
   "id": "ce420afb",
   "metadata": {},
   "outputs": [],
   "source": []
  },
  {
   "cell_type": "code",
   "execution_count": null,
   "id": "6c4c979f",
   "metadata": {},
   "outputs": [],
   "source": []
  },
  {
   "cell_type": "code",
   "execution_count": null,
   "id": "ddfd2653",
   "metadata": {},
   "outputs": [],
   "source": []
  },
  {
   "cell_type": "code",
   "execution_count": null,
   "id": "4ddb3295",
   "metadata": {},
   "outputs": [],
   "source": []
  },
  {
   "cell_type": "code",
   "execution_count": null,
   "id": "c62c847c",
   "metadata": {},
   "outputs": [],
   "source": []
  },
  {
   "cell_type": "code",
   "execution_count": null,
   "id": "caf5cc88",
   "metadata": {},
   "outputs": [],
   "source": []
  },
  {
   "cell_type": "code",
   "execution_count": null,
   "id": "2c3d15ca",
   "metadata": {},
   "outputs": [],
   "source": []
  },
  {
   "cell_type": "code",
   "execution_count": null,
   "id": "67d9d628",
   "metadata": {},
   "outputs": [],
   "source": []
  },
  {
   "cell_type": "code",
   "execution_count": null,
   "id": "2fa76328",
   "metadata": {},
   "outputs": [],
   "source": []
  },
  {
   "cell_type": "code",
   "execution_count": null,
   "id": "9fe1a1a4",
   "metadata": {},
   "outputs": [],
   "source": []
  },
  {
   "cell_type": "code",
   "execution_count": null,
   "id": "ab833bc3",
   "metadata": {},
   "outputs": [],
   "source": []
  },
  {
   "cell_type": "code",
   "execution_count": null,
   "id": "b21f18b9",
   "metadata": {},
   "outputs": [],
   "source": []
  },
  {
   "cell_type": "code",
   "execution_count": null,
   "id": "402e1a61",
   "metadata": {},
   "outputs": [],
   "source": []
  },
  {
   "cell_type": "code",
   "execution_count": null,
   "id": "ec3db246",
   "metadata": {},
   "outputs": [],
   "source": []
  },
  {
   "cell_type": "code",
   "execution_count": null,
   "id": "18828a0f",
   "metadata": {},
   "outputs": [],
   "source": []
  },
  {
   "cell_type": "code",
   "execution_count": null,
   "id": "8a38eebd",
   "metadata": {},
   "outputs": [],
   "source": []
  }
 ],
 "metadata": {
  "kernelspec": {
   "display_name": "Python 3 (ipykernel)",
   "language": "python",
   "name": "python3"
  },
  "language_info": {
   "codemirror_mode": {
    "name": "ipython",
    "version": 3
   },
   "file_extension": ".py",
   "mimetype": "text/x-python",
   "name": "python",
   "nbconvert_exporter": "python",
   "pygments_lexer": "ipython3",
   "version": "3.9.12"
  }
 },
 "nbformat": 4,
 "nbformat_minor": 5
}
